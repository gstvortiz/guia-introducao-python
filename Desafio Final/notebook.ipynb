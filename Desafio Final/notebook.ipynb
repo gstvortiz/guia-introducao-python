{
 "cells": [
  {
   "cell_type": "code",
   "execution_count": null,
   "metadata": {},
   "outputs": [],
   "source": [
    "import os"
   ]
  },
  {
   "cell_type": "code",
   "execution_count": null,
   "metadata": {},
   "outputs": [],
   "source": [
    "def inserir_filme(arquivos_txt, legenda):\n",
    "    nome_filme = input('Digite o nome do filme: ')\n",
    "    data = input('Digite a data de visualização do filme: ')\n",
    "    nota = input('Digite a nota do filme: ')\n",
    "    i = int(input(f'Digite o gênero do filme: {legenda}'))\n",
    "    arq = open(f'{arquivos_txt[i]}', 'a')\n",
    "    arq.write(f'{nome_filme},{data},{nota}\\n')\n",
    "    arq.close()"
   ]
  },
  {
   "cell_type": "code",
   "execution_count": null,
   "metadata": {},
   "outputs": [],
   "source": [
    "def ver_filmes(arquivos_txt, legenda):\n",
    "    i = int(input(f'Digite o gênero do filme: {legenda}'))\n",
    "    arq = open(f'{arquivos_txt[i]}', 'r')\n",
    "    for linha in arq:\n",
    "        nome, data, nota = linha.split(',')\n",
    "        print(f'Filme: {nome} | Data: {data} | Nota: {nota}')\n",
    "    arq.close()"
   ]
  },
  {
   "cell_type": "code",
   "execution_count": null,
   "metadata": {},
   "outputs": [],
   "source": [
    "def buscar_filme(arquivos_txt):\n",
    "    filme = input('Qual nome do filme que você deseja buscar?')\n",
    "    for genero in arquivos_txt:\n",
    "        arq = open(f'{genero}', 'r')\n",
    "        for linha in arq:\n",
    "            if filme in linha:\n",
    "                nome, data, nota = linha.split(',')\n",
    "                print(f'Filme: {nome} | Data: {data} | Nota: {nota} | Arquivo: \"{genero}\"')\n",
    "                break\n",
    "        arq.close()"
   ]
  },
  {
   "cell_type": "code",
   "execution_count": null,
   "metadata": {},
   "outputs": [],
   "source": [
    "import os\n",
    "\n",
    "arquivos_txt = sorted([arquivo for arquivo in os.listdir() if arquivo.endswith('.txt')])\n",
    "legenda = \"\".join(f' [{arquivos_txt.index(genero)}]:{genero[:genero.find(\".txt\")]}' for genero in arquivos_txt)\n",
    "\n",
    "while(True):\n",
    "    select_case = input('Olá. O que você deseja?\\n [1]: Inserir um novo filme | [2]: Ver Filmes por Gênero | [3]: Buscar um Filme por Nome')\n",
    "    if select_case == '1': \n",
    "        inserir_filme(arquivos_txt, legenda)\n",
    "    elif select_case == '2': \n",
    "        ver_filmes(arquivos_txt, legenda)\n",
    "    elif select_case == '3': \n",
    "        buscar_filme(arquivos_txt)\n",
    "    else:\n",
    "        print('Opção Inválida. Tente novamente.')\n",
    "        break"
   ]
  }
 ],
 "metadata": {
  "kernelspec": {
   "display_name": "Python 3",
   "language": "python",
   "name": "python3"
  },
  "language_info": {
   "codemirror_mode": {
    "name": "ipython",
    "version": 3
   },
   "file_extension": ".py",
   "mimetype": "text/x-python",
   "name": "python",
   "nbconvert_exporter": "python",
   "pygments_lexer": "ipython3",
   "version": "3.10.6"
  },
  "orig_nbformat": 4
 },
 "nbformat": 4,
 "nbformat_minor": 2
}
