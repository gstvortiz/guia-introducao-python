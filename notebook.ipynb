{
 "cells": [
  {
   "cell_type": "code",
   "execution_count": null,
   "metadata": {},
   "outputs": [],
   "source": [
    "\"\"\"\n",
    "referencia: https://docs.python.org/3/tutorial/inputoutput.html#reading-and-writing-files\n",
    "\"\"\"\n",
    "\n",
    "# 1-Abra o arquivo do diretorio atual \"foo.txt\"\n",
    "# Printe todo o conteudo do arquivo , então feche o arquivo\n",
    "\n",
    "# 2- Crie um arquivo chamado \"bar.txt\" \n",
    "# Abra o arquivo e conte quanta vezes a palavra \"sir\" aparece \n",
    "# Escreva no arquivo que voce criou quantas palavras foram encontradas\n",
    "# Feche o arquivo"
   ]
  },
  {
   "cell_type": "code",
   "execution_count": null,
   "metadata": {},
   "outputs": [],
   "source": [
    "# 1-Abra o arquivo do diretorio atual \"foo.txt\"\n",
    "# Printe todo o conteudo do arquivo , então feche o arquivo\n",
    "arq = open('foo.txt', 'r')\n",
    "for linha in arq:\n",
    "    print(linha)\n",
    "arq.close()"
   ]
  },
  {
   "cell_type": "code",
   "execution_count": 90,
   "metadata": {},
   "outputs": [
    {
     "name": "stdout",
     "output_type": "stream",
     "text": [
      "6\n"
     ]
    }
   ],
   "source": [
    "# 2- Crie um arquivo chamado \"bar.txt\" \n",
    "# Abra o arquivo e conte quanta vezes a palavra \"sir\" aparece \n",
    "# Escreva no arquivo que voce criou quantas palavras foram encontradas\n",
    "# Feche o arquivo\n",
    "contador = 0\n",
    "arq = open('bar.txt', 'r')\n",
    "for linha in arq:\n",
    "    contador += linha.count('sir')\n",
    "arq.close()\n",
    "print(contador)"
   ]
  }
 ],
 "metadata": {
  "kernelspec": {
   "display_name": "Python 3",
   "language": "python",
   "name": "python3"
  },
  "language_info": {
   "codemirror_mode": {
    "name": "ipython",
    "version": 3
   },
   "file_extension": ".py",
   "mimetype": "text/x-python",
   "name": "python",
   "nbconvert_exporter": "python",
   "pygments_lexer": "ipython3",
   "version": "3.10.6"
  },
  "orig_nbformat": 4
 },
 "nbformat": 4,
 "nbformat_minor": 2
}
